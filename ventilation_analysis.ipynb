{
 "cells": [
  {
   "cell_type": "markdown",
   "metadata": {},
   "source": [
    "# Ventilation System Analysis for Facility Bathrooms\n",
    "\n",
    "This notebook analyzes the ventilation system for a multi-floor facility's bathrooms, calculates required airflow, evaluates duct velocities, and recommends appropriate centrifugal fans."
   ]
  },
  {
   "cell_type": "code",
   "execution_count": null,
   "metadata": {},
   "source": [
    "# Import required libraries\n",
    "import numpy as np\n",
    "import pandas as pd\n",
    "import matplotlib.pyplot as plt\n",
    "from scipy.optimize import fsolve\n",
    "import sys\n",
    "sys.path.append('.')\n",
    "from ventilation_analysis import *"
   ]
  },
  {
   "cell_type": "markdown",
   "metadata": {},
   "source": [
    "## System Overview\n",
    "\n",
    "The facility has two main ventilation systems:\n",
    "1. **System 1**: Serves Ground Floor (PB) and Cafeteria bathrooms\n",
    "2. **System 2**: Serves 1st and 2nd Floor bathrooms\n",
    "\n",
    "Climate conditions:\n",
    "- Average: 25°C, 60% RH\n",
    "- Extreme hot/humid: 28°C, 93% RH\n",
    "- Extreme cold/dry: 16°C, 30% RH\n",
    "- Altitude: 850m above sea level"
   ]
  },
  {
   "cell_type": "code",
   "execution_count": null,
   "metadata": {},
   "source": [
    "# Run the analysis\n",
    "results = analyze_ventilation_system()\n",
    "\n",
    "# Display summary of results\n",
    "for system_name, system_results in results.items():\n",
    "    print(f\"\\n{system_name}:\")\n",
    "    print(f\"Total Airflow: {system_results['total_airflow']:.4f} m³/s ({system_results['total_airflow'] * M3S_TO_CFM:.1f} CFM)\")\n",
    "    print(f\"Total Pressure Loss: {system_results['pressure_loss']:.2f} Pa ({system_results['pressure_loss'] * PA_TO_INWG:.4f} inWG)\")"
   ]
  },
  {
   "cell_type": "markdown",
   "metadata": {},
   "source": [
    "## Room Analysis\n",
    "\n",
    "For each room, we calculate:\n",
    "- Required air changes per hour\n",
    "- Airflow requirements\n",
    "- Grid velocities\n",
    "\n",
    "We ensure that grid velocities are within standards (1.0-2.5 m/s)."
   ]
  },
  {
   "cell_type": "code",
   "execution_count": null,
   "metadata": {},
   "source": [
    "# Create room analysis dataframe\n",
    "room_data = []\n",
    "for system_name, system_results in results.items():\n",
    "    for room_name, room in system_results['rooms'].items():\n",
    "        room_data.append({\n",
    "            'System': system_name,\n",
    "            'Room': room_name,\n",
    "            'Volume (m³)': room['volume'],\n",
    "            'Air Changes/hr': room['air_changes'],\n",
    "            'Airflow (m³/s)': room['required_airflow'],\n",
    "            'Grid Area (m²)': room['grid_area'],\n",
    "            'Grid Velocity (m/s)': room['grid_velocity']\n",
    "        })\n",
    "\n",
    "room_df = pd.DataFrame(room_data)\n",
    "room_df"
   ]
  },
  {
   "cell_type": "markdown",
   "metadata": {},
   "source": [
    "## Duct Analysis\n",
    "\n",
    "For each duct section, we calculate:\n",
    "- Air velocity\n",
    "- Pressure losses\n",
    "\n",
    "We ensure that duct velocities are within standards (2.5-10.0 m/s)."
   ]
  },
  {
   "cell_type": "code",
   "execution_count": null,
   "metadata": {},
   "source": [
    "# Create duct analysis dataframe\n",
    "duct_data = []\n",
    "for system_name, system_results in results.items():\n",
    "    for section_name, section in system_results['sections'].items():\n",
    "        duct_data.append({\n",
    "            'System': system_name,\n",
    "            'Section': section_name,\n",
    "            'Area (m²)': section['area'],\n",
    "            'Velocity (m/s)': section['velocity'],\n",
    "            'Pressure Loss (Pa)': section['pressure_loss']\n",
    "        })\n",
    "\n",
    "duct_df = pd.DataFrame(duct_data)\n",
    "duct_df"
   ]
  },
  {
   "cell_type": "markdown",
   "metadata": {},
   "source": [
    "## Fan Recommendations\n",
    "\n",
    "Based on the analysis, we recommend appropriate centrifugal fans for each system."
   ]
  },
  {
   "cell_type": "code",
   "execution_count": null,
   "metadata": {},
   "source": [
    "# Get fan recommendations\n",
    "fan_recommendations = recommend_fans(results)\n",
    "\n",
    "# Display fan recommendations\n",
    "for system_name, fan in fan_recommendations.items():\n",
    "    print(f\"\\n{system_name} Fan Recommendation:\")\n",
    "    print(f\"Type: {fan['type']}\")\n",
    "    print(f\"Size: {fan['size']}\")\n",
    "    print(f\"Design Airflow: {fan['airflow_cfm']:.1f} CFM\")\n",
    "    print(f\"Design Pressure: {fan['pressure_inwg']:.4f} inWG\")\n",
    "    print(f\"Motor Power: {fan['motor_power_hp']} HP\")\n",
    "    \n",
    "    if fan['notes']:\n",
    "        print(\"\\nNotes and Recommendations:\")\n",
    "        for note in fan['notes']:\n",
    "            print(f\"- {note}\")"
   ]
  },
  {
   "cell_type": "markdown",
   "metadata": {},
   "source": [
    "## Visualization\n",
    "\n",
    "Visualize the duct velocities and pressure losses for each system."
   ]
  },
  {
   "cell_type": "code",
   "execution_count": null,
   "metadata": {},
   "source": [
    "# Plot system diagrams\n",
    "plot_system_diagram(results)\n",
    "\n",
    "# Display the saved images\n",
    "from IPython.display import Image, display\n",
    "\n",
    "print(\"Duct Velocities:\")\n",
    "display(Image(filename='ventilation_velocities.png'))\n",
    "\n",
    "print(\"Pressure Losses:\")\n",
    "display(Image(filename='ventilation_pressure_losses.png'))"
   ]
  },
  {
   "cell_type": "markdown",
   "metadata": {},
   "source": [
    "## Generate Full Report\n",
    "\n",
    "Generate a comprehensive report of the ventilation analysis."
   ]
  },
  {
   "cell_type": "code",
   "execution_count": null,
   "metadata": {},
   "source": [
    "# Generate report\n",
    "report = generate_report(results, fan_recommendations)\n",
    "\n",
    "# Save report to file\n",
    "with open('ventilation_report.md', 'w') as f:\n",
    "    f.write(report)\n",
    "\n",
    "print(\"Report saved to ventilation_report.md\")"
   ]
  },
  {
   "cell_type": "markdown",
   "metadata": {},
   "source": [
    "## Conclusion\n",
    "\n",
    "This analysis has evaluated the ventilation system for the facility bathrooms under the worst-case climatic conditions. We have:\n",
    "\n",
    "1. Calculated required airflow based on room volumes and recommended air changes\n",
    "2. Analyzed the duct system and calculated pressure losses\n",
    "3. Ensured minimum velocities are within standards\n",
    "4. Recommended appropriate centrifugal fans\n",
    "5. Suggested grid changes where necessary\n",
    "\n",
    "The recommended fans and any suggested modifications will ensure proper ventilation throughout the facility."
   ]
  }
 ],
 "metadata": {
  "kernelspec": {
   "display_name": "Python 3",
   "language": "python",
   "name": "python3"
  },
  "language_info": {
   "codemirror_mode": {
    "name": "ipython",
    "version": 3
   },
   "file_extension": ".py",
   "mimetype": "text/x-python",
   "name": "python",
   "nbconvert_exporter": "python",
   "pygments_lexer": "ipython3",
   "version": "3.8.10"
  }
 },
 "nbformat": 4,
 "nbformat_minor": 4
}
