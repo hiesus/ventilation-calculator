{
 "cells": [
  {
   "cell_type": "markdown",
   "metadata": {},
   "source": [
    "# Ventilation System Analysis\n",
    "\n",
    "This notebook uses the ventilation calculator to determine appropriate centrifugal fans for bathroom ventilation systems."
   ]
  },
  {
   "cell_type": "code",
   "execution_count": null,
   "metadata": {},
   "source": [
    "# Import the ventilation calculator module\n",
    "from ventilation_calculator import *\n",
    "\n",
    "# Check that all dependencies are installed\n",
    "import numpy as np\n",
    "import scipy\n",
    "import matplotlib.pyplot as plt\n",
    "\n",
    "print(f\"NumPy version: {np.__version__}\")\n",
    "print(f\"SciPy version: {scipy.__version__}\")\n",
    "print(f\"Matplotlib version: {plt.__version__}")\n",
    "\n",
    "# Display available functions\n",
    "print(\"\\nAvailable functions:\")\n",
    "print(\"- calculate_air_density()\")\n",
    "print(\"- calculate_required_flow_rate()\")\n",
    "print(\"- calculate_duct_area()\")\n",
    "print(\"- calculate_hydraulic_diameter()\")\n",
    "print(\"- calculate_velocity()\")"
   ]
  },
  {
   "cell_type": "code",
   "execution_count": null,
   "metadata": {},
   "source": [
    "# Run the main calculation\n",
    "main()"
   ]
  }
 ],
 "metadata": {
  "kernelspec": {
   "display_name": "Python 3",
   "language": "python",
   "name": "python3"
  },
  "language_info": {
   "codemirror_mode": {
    "name": "ipython",
    "version": 3
   },
   "file_extension": ".py",
   "mimetype": "text/x-python",
   "name": "python",
   "nbconvert_exporter": "python",
   "pygments_lexer": "ipython3",
   "version": "3.8.10"
  }
 },
 "nbformat": 4,
 "nbformat_minor": 4
}
