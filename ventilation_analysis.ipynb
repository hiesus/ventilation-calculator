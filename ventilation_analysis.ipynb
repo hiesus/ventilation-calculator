{
 "cells": [
  {
   "cell_type": "markdown",
   "metadata": {},
   "source": [
    "# Bathroom Ventilation System Analysis\n",
    "\n",
    "This notebook calculates the required airflow, pressure losses, and commercial centrifugal fan selection for a multi-floor bathroom ventilation system.\n",
    "\n",
    "## Building Specifications\n",
    "\n",
    "- **Ground Floor Bathroom C**: 25m³, 2 grilles 4\"x11\" connected to 6\"x11\" duct (4m length)\n",
    "- **Ground Floor Bathroom D**: 18m³, 3 grilles 6\"x11\" connected via 90° elbows to 6\"x11\" duct (4m length)\n",
    "- **Cafeteria Bathroom C**: 6.5m³, 1 grille 7.5\"x10\", 10\" duct (1.44m) with 90° elbow\n",
    "- **Cafeteria Bathroom D**: 9m³, 2 grilles 7.5\"x11\", 10\" duct (2m length)\n",
    "- **1st Floor Bathroom C**: 25m³, 3 grilles 6\"x14\", 11\"x6\" duct (3.20m) with 90° elbow\n",
    "- **1st Floor Bathroom D**: 25m³, 3 grilles 6\"x14\", 11\"x6\" duct (3.20m) with 90° elbow\n",
    "- **2nd Floor Bathroom C**: 20m³, 3 grilles 4\"x11\", 11\"x6\" duct (3.20m)\n",
    "- **2nd Floor Bathroom D**: 20m³, 3 grilles 4\"x11\", 11\"x6\" duct (3.20m)\n",
    "\n",
    "**Fan Configuration**:\n",
    "- Fan 1: Services Ground Floor & Cafeteria bathrooms\n",
    "- Fan 2: Services 1st & 2nd Floor bathrooms\n",
    "\n",
    "**Climate Conditions**:\n",
    "- Average: 25°C, 60% RH\n",
    "- Extreme: 28°C, 93% RH & 16°C, 30% RH\n",
    "- Altitude: 850m above sea level\n",
    "\n",
    "**Ventilation Standard**: 12 air changes per hour"
   ]
  },
  {
   "cell_type": "code",
   "execution_count": null,
   "metadata": {},
   "source": [
    "# Import necessary libraries\n",
    "import math\n",
    "import numpy as np\n",
    "import matplotlib.pyplot as plt"
   ]
  },
  {
   "cell_type": "markdown",
   "metadata": {},
   "source": [
    "## Constants and Utility Functions\n",
    "\n",
    "Setting up the constants and utility functions needed for our calculations."
   ]
  },
  {
   "cell_type": "code",
   "execution_count": null,
   "metadata": {},
   "source": [
    "# Constants\n",
    "AIR_CHANGES_PER_HOUR = 12\n",
    "ALTITUDE = 850  # meters above sea level\n",
    "STANDARD_TEMP = 25  # °C\n",
    "STANDARD_RH = 0.60  # 60% relative humidity\n",
    "\n",
    "# Air density correction for altitude\n",
    "def calculate_air_density(altitude, temp, rh):\n",
    "    # Standard air density at sea level (kg/m³)\n",
    "    rho_0 = 1.225\n",
    "    \n",
    "    # Altitude correction (simplified)\n",
    "    pressure_ratio = (1 - 2.25577e-5 * altitude) ** 5.25588\n",
    "    temp_ratio = (273.15 + temp) / 288.15\n",
    "    \n",
    "    # Basic density calculation\n",
    "    rho = rho_0 * pressure_ratio / temp_ratio\n",
    "    \n",
    "    # Humidity effect (simplified)\n",
    "    humidity_factor = 1 - 0.378 * rh * 0.0315  # approximation of humidity effect\n",
    "    \n",
    "    return rho * humidity_factor\n",
    "\n",
    "# Function to convert dimensions from inches to meters\n",
    "def inch_to_meter(inches):\n",
    "    return inches * 0.0254\n",
    "\n",
    "# Function to calculate area in square meters\n",
    "def calculate_area(width_inch, height_inch):\n",
    "    width_m = inch_to_meter(width_inch)\n",
    "    height_m = inch_to_meter(height_inch)\n",
    "    return width_m * height_m\n",
    "\n",
    "# Function to calculate equivalent diameter for rectangular ducts\n",
    "def equivalent_diameter(width_inch, height_inch):\n",
    "    width_m = inch_to_meter(width_inch)\n",
    "    height_m = inch_to_meter(height_inch)\n",
    "    return 1.3 * ((width_m * height_m) ** 0.625) / ((width_m + height_m) ** 0.25)\n",
    "\n",
    "# Function to calculate required airflow based on room volume and air changes\n",
    "def calculate_airflow(volume_m3, air_changes_per_hour):\n",
    "    # Convert to m³/h\n",
    "    airflow_m3h = volume_m3 * air_changes_per_hour\n",
    "    # Convert to CFM (Cubic Feet per Minute)\n",
    "    airflow_cfm = airflow_m3h * 0.589\n",
    "    return airflow_m3h, airflow_cfm\n",
    "\n",
    "# Function to calculate velocity in a duct\n",
    "def calculate_velocity(airflow_m3h, area_m2):\n",
    "    # Convert m³/h to m³/s\n",
    "    airflow_m3s = airflow_m3h / 3600\n",
    "    return airflow_m3s / area_m2\n",
    "\n",
    "# Function to calculate friction loss in straight ducts\n",
    "def calculate_friction_loss(velocity, equiv_diameter, length, friction_factor=0.02):\n",
    "    # Darcy-Weisbach equation for pressure loss\n",
    "    return friction_factor * (length / equiv_diameter) * (velocity ** 2) / 2\n",
    "\n",
    "# Function to calculate pressure loss due to fittings\n",
    "def calculate_fitting_loss(velocity, k_factor):\n",
    "    # Dynamic pressure loss equation\n",
    "    return k_factor * (velocity ** 2) / 2\n",
    "\n",
    "# K-factors for common fittings\n",
    "def get_k_factor(fitting_type):\n",
    "    k_factors = {\n",
    "        'elbow_90': 0.3,       # 90° elbow\n",
    "        'tee': 1.0,            # T-connection\n",
    "        'entry': 0.5,          # Entry from room to duct\n",
    "        'exit': 1.0,           # Exit from duct\n",
    "        'sudden_expansion': 0.8,  # Sudden expansion\n",
    "        'transition': 0.2      # Section change\n",
    "    }\n",
    "    return k_factors.get(fitting_type, 0.5)  # Default if not found"
   ]
  },
  {
   "cell_type": "markdown",
   "metadata": {},
   "source": [
    "## Define Building Spaces\n",
    "\n",
    "Define all bathroom spaces with their volumes and grille specifications."
   ]
  },
  {
   "cell_type": "code",
   "execution_count": null,
   "metadata": {},
   "source": [
    "# Define bathroom spaces\n",
    "bathrooms = {\n",
    "    'PB_Bano_C': {'volume': 25, 'grilles': 2, 'grille_size': (4, 11)},\n",
    "    'PB_Bano_D': {'volume': 18, 'grilles': 3, 'grille_size': (6, 11)},\n",
    "    'Cafeteria_Bano_C': {'volume': 6.5, 'grilles': 1, 'grille_size': (7.5, 10)},\n",
    "    'Cafeteria_Bano_D': {'volume': 9, 'grilles': 2, 'grille_size': (7.5, 11)},\n",
    "    'Piso1_Bano_C': {'volume': 25, 'grilles': 3, 'grille_size': (6, 14)},\n",
    "    'Piso1_Bano_D': {'volume': 25, 'grilles': 3, 'grille_size': (6, 14)},\n",
    "    'Piso2_Bano_C': {'volume': 20, 'grilles': 3, 'grille_size': (4, 11)},\n",
    "    'Piso2_Bano_D': {'volume': 20, 'grilles': 3, 'grille_size': (4, 11)}\n",
    "}\n",
    "\n",
    "# Calculate airflow requirements for each bathroom\n",
    "for name, bathroom in bathrooms.items():\n",
    "    airflow_m3h, airflow_cfm = calculate_airflow(bathroom['volume'], AIR_CHANGES_PER_HOUR)\n",
    "    bathroom['airflow_m3h'] = airflow_m3h\n",
    "    bathroom['airflow_cfm'] = airflow_cfm\n",
    "    print(f\"{name}: Volume {bathroom['volume']} m³, Required airflow: {airflow_m3h:.2f} m³/h ({airflow_cfm:.2f} CFM)\")"
   ]
  },
  {
   "cell_type": "markdown",
   "metadata": {},
   "source": [
    "## Total Airflow Requirements for Each Fan\n",
    "\n",
    "Calculate the total airflow that each fan must handle."
   ]
  },
  {
   "cell_type": "code",
   "execution_count": null,
   "metadata": {},
   "source": [
    "# Calculate total airflow requirements for each fan\n",
    "fan1_bathrooms = ['PB_Bano_C', 'PB_Bano_D', 'Cafeteria_Bano_C', 'Cafeteria_Bano_D']\n",
    "fan2_bathrooms = ['Piso1_Bano_C', 'Piso1_Bano_D', 'Piso2_Bano_C', 'Piso2_Bano_D']\n",
    "\n",
    "fan1_total_m3h = sum(bathrooms[name]['airflow_m3h'] for name in fan1_bathrooms)\n",
    "fan1_total_cfm = sum(bathrooms[name]['airflow_cfm'] for name in fan1_bathrooms)\n",
    "\n",
    "fan2_total_m3h = sum(bathrooms[name]['airflow_m3h'] for name in fan2_bathrooms)\n",
    "fan2_total_cfm = sum(bathrooms[name]['airflow_cfm'] for name in fan2_bathrooms)\n",
    "\n",
    "print(f\"\\nFan 1 (Ground Floor & Cafeteria): Total airflow: {fan1_total_m3h:.2f} m³/h ({fan1_total_cfm:.2f} CFM)\")\n",
    "print(f\"Fan 2 (Floors 1 & 2): Total airflow: {fan2_total_m3h:.2f} m³/h ({fan2_total_cfm:.2f} CFM)\")"
   ]
  },
  {
   "cell_type": "markdown",
   "metadata": {},
   "source": [
    "## Define Duct Systems for Pressure Loss Calculation\n",
    "\n",
    "We'll define the critical path for each fan system, which will determine the total pressure loss."
   ]
  },
  {
   "cell_type": "code",
   "execution_count": null,
   "metadata": {},
   "source": [
    "# Define duct systems for pressure loss calculation\n",
    "# This is a simplified calculation for the critical path of each fan system\n",
    "\n",
    "# Fan 1 System - Ground Floor and Cafeteria\n",
    "# Critical path through PB_Bano_C to fan\n",
    "fan1_critical_path = [\n",
    "    # Format: [duct_width_inch, duct_height_inch, length_m, duct_type]\n",
    "    {'section': 'PB_Bano_C Grille', 'dim': (4, 11), 'length': 0, 'type': 'entry'},\n",
    "    {'section': 'Duct 6x11', 'dim': (6, 11), 'length': 4, 'type': 'straight'},\n",
    "    {'section': 'Expansion to 11x11', 'dim': (11, 11), 'length': 0, 'type': 'sudden_expansion'},\n",
    "    {'section': 'Duct 11x11', 'dim': (11, 11), 'length': 2, 'type': 'straight'},\n",
    "    {'section': '90° Elbow 11x11', 'dim': (11, 11), 'length': 0, 'type': 'elbow_90'},\n",
    "    {'section': 'Transition to 12.5\" circular', 'dim': (12.5, 12.5), 'length': 0, 'type': 'transition'},\n",
    {'section': '12.5\" Vertical Duct', 'dim': (12.5, 12.5), 'length': 6, 'type': 'straight'},
    {'section': '90° Elbow to Fan', 'dim': (12.5, 12.5), 'length': 0, 'type': 'elbow_90'},
    {'section': 'Fan Connection', 'dim': (12.5, 12.5), 'length': 0, 'type': 'exit'}
]

# Fan 2 System - Floors 1 & 2
# Critical path through Piso2 to fan
fan2_critical_path = [
    # Format: [duct_width_inch, duct_height_inch, length_m, duct_type]
    {'section': 'Piso2_Bano_C Grille', 'dim': (4, 11), 'length': 0, 'type': 'entry'},
    {'section': 'Duct 11x6', 'dim': (11, 6), 'length': 3.2, 'type': 'straight'},
    {'section': 'T-Connection', 'dim': (11, 6), 'length': 0, 'type': 'tee'},
    {'section': 'Main Duct 11x11', 'dim': (11, 11), 'length': 12, 'type': 'straight'},
    {'section': 'Transition to 12\" circular', 'dim': (12, 12), 'length': 0, 'type': 'transition'},
    {'section': 'Fan Connection', 'dim': (12, 12), 'length': 0, 'type': 'exit'}
]
