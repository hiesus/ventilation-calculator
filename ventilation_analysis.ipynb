{
 "cells": [
  {
   "cell_type": "markdown",
   "metadata": {},
   "source": [
    "# Bathroom Ventilation System Analysis\n",
    "\n",
    "This notebook analyzes the ventilation requirements for a multi-floor facility with several bathrooms. It calculates:\n",
    "- Required airflow based on room volume and air changes per hour\n",
    "- Pressure drops in the duct system\n",
    "- Duct velocity checks\n",
    "- Appropriate centrifugal fan selection"
   ]
  },
  {
   "cell_type": "code",
   "execution_count": null,
   "metadata": {},
   "outputs": [],
   "source": [
    "# Import required libraries\n",
    "import numpy as np\n",
    "import pandas as pd\n",
    "import matplotlib.pyplot as plt\n",
    "from scipy.optimize import fsolve\n",
    "import sys\n",
    "import os\n",
    "\n",
    "# Import the ventilation calculator module\n",
    "import ventilation_calculator as vc"
   ]
  },
  {
   "cell_type": "markdown",
   "metadata": {},
   "source": [
    "## Run Ventilation System Calculations"
   ]
  },
  {
   "cell_type": "code",
   "execution_count": null,
   "metadata": {},
   "outputs": [],
   "source": [
    "# Calculate ventilation system requirements\n",
    "report = vc.calculate_ventilation_system()\n",
    "\n",
    "# Print the report\n",
    "vc.print_report(report)"
   ]
  },
  {
   "cell_type": "markdown",
   "metadata": {},
   "source": [
    "## Visualize the Results"
   ]
  },
  {
   "cell_type": "code",
   "execution_count": null,
   "metadata": {},
   "outputs": [],
   "source": [
    "# Create visualizations\n",
    "vc.visualize_system(report)\n",
    "\n",
    "# Display the saved image\n",
    "from IPython.display import Image\n",
    "Image(filename='ventilation_analysis.png')"
   ]
  },
  {
   "cell_type": "markdown",
   "metadata": {},
   "source": [
    "## Export Results to CSV"
   ]
  },
  {
   "cell_type": "code",
   "execution_count": null,
   "metadata": {},
   "outputs": [],
   "source": [
    "# Export results to CSV files\n",
    "vc.export_to_csv(report)\n",
    "\n",
    "# Display the exported CSV files\n",
    "print(\"Exported files:\")\n",
    "for file in os.listdir():\n",
    "    if file.endswith('.csv'):\n",
    "        print(f\"- {file}\")"
   ]
  },
  {
   "cell_type": "markdown",
   "metadata": {},
   "source": [
    "## Detailed Analysis of Airflow Requirements"
   ]
  },
  {
   "cell_type": "code",
   "execution_count": null,
   "metadata": {},
   "outputs": [],
   "source": [
    "# Load and display airflow requirements\n",
    "airflow_df = pd.read_csv('airflow_requirements.csv')\n",
    "airflow_df"
   ]
  },
  {
   "cell_type": "markdown",
   "metadata": {},
   "source": [
    "## Detailed Analysis of Pressure Drops"
   ]
  },
  {
   "cell_type": "code",
   "execution_count": null,
   "metadata": {},
   "outputs": [],
   "source": [
    "# Load and display pressure drops\n",
    "pressure_df = pd.read_csv('pressure_drops.csv')\n",
    "\n",
    "# Sort by pressure drop (descending)\n",
    "pressure_df.sort_values('Pressure Drop (Pa)', ascending=False)"
   ]
  },
  {
   "cell_type": "markdown",
   "metadata": {},
   "source": [
    "## Fan Recommendations"
   ]
  },
  {
   "cell_type": "code",
   "execution_count": null,
   "metadata": {},
   "outputs": [],
   "source": [
    "# Load and display fan recommendations if file exists\n",
    "try:\n",
    "    fan_df = pd.read_csv('fan_recommendations.csv')\n",
    "    fan_df\n",
    "except FileNotFoundError:\n",
    "    print(\"No suitable fans found. Consider custom solutions or redesigning the duct system.\")"
   ]
  },
  {
   "cell_type": "markdown",
   "metadata": {},
   "source": [
    "## Velocity Issues Analysis"
   ]
  },
  {
   "cell_type": "code",
   "execution_count": null,
   "metadata": {},
   "outputs": [],
   "source": [
    "# Load and display velocity issues if file exists\n",
    "try:\n",
    "    velocity_df = pd.read_csv('velocity_issues.csv')\n",
    "    velocity_df\n",
    "except FileNotFoundError:\n",
    "    print(\"No velocity issues detected.\")"
   ]
  },
  {
   "cell_type": "markdown",
   "metadata": {},
   "source": [
    "## Modify Parameters and Recalculate\n",
    "\n",
    "You can modify the parameters below\n",
    "## Modify Parameters and Recalculate\n",
    "\n",
    "You can modify the parameters below and recalculate the ventilation system requirements."
   ]
  },
  {
   "cell_type": "code",
   "execution_count": null,
   "metadata": {},
   "outputs": [],
   "source": [
    "# Modify parameters\n",
    "vc.CHANGES_PER_HOUR = 12  # Air changes per hour\n",
    "vc.ALTITUDE = 850  # meters above sea level\n",
    "vc.TEMP_AVG = 25  # °C\n",
    "vc.RH_AVG = 60  # %\n",
    "\n",
    "# Recalculate with new parameters\n",
    "new_report = vc.calculate_ventilation_system()\n",
    "vc.print_report(new_report)"
   ]
  },
  {
   "cell_type": "markdown",
   "metadata": {},
   "source": [
    "## Compare Different Air Change Rates\n",
    "\n",
    "This section compares the effect of different air change rates on the ventilation requirements."
   ]
  },
  {
   "cell_type": "code",
   "execution_count": null,
   "metadata": {},
   "outputs": [],
   "source": [
    "# Compare different air change rates\n",
    "air_change_rates = [8, 10, 12, 15]\n",
    "results = []\n",
    "\n",
    "for rate in air_change_rates:\n",
    "    vc.CHANGES_PER_HOUR = rate\n",
    "    report = vc.calculate_ventilation_system()\n",
    "    \n",
    "    for system_name, system_data in report['systems'].items():\n",
    "        results.append({\n",
    "            'Air Changes': rate,\n",
    "            'System': system_name,\n",
    "            'Total Flow (CFM)': system_data['airflow']['total_cfm'],\n",
    "            'Total Pressure (inWG)': system_data['pressure_drop']['total_inwg']\n",
    "        })\n",
    "\n",
    "# Create DataFrame and plot results\n",
    "comparison_df = pd.DataFrame(results)\n",
    "comparison_df"
   ]
  },
  {
   "cell_type": "code",
   "execution_count": null,
   "metadata": {},
   "outputs": [],
   "source": [
    "# Plot comparison of air change rates\n",
    "plt.figure(figsize=(12, 6))\n",
    "\n",
    "# Plot airflow vs air changes\n",
    "plt.subplot(1, 2, 1)\n",
    "for system in comparison_df['System'].unique():\n",
    "    system_data = comparison_df[comparison_df['System'] == system]\n",
    "    plt.plot(system_data['Air Changes'], system_data['Total Flow (CFM)'], 'o-', label=system)\n",
    "    \n",
    "plt.xlabel('Air Changes per Hour')\n",
    "plt.ylabel('Total Airflow (CFM)')\n",
    "plt.title('Airflow vs Air Changes')\n",
    "plt.grid(True)\n",
    "plt.legend()\n",
    "\n",
    "# Plot pressure vs air changes\n",
    "plt.subplot(1, 2, 2)\n",
    "for system in comparison_df['System'].unique():\n",
    "    system_data = comparison_df[comparison_df['System'] == system]\n",
    "    plt.plot(system_data['Air Changes'], system_data['Total Pressure (inWG)'], 'o-', label=system)\n",
    "    \n",
    "plt.xlabel('Air Changes per Hour')\n",
    "plt.ylabel('Total Pressure (inWG)')\n",
    "plt.title('Pressure vs Air Changes')\n",
    "plt.grid(True)\n",
    "plt.legend()\n",
    "\n",
    "plt.tight_layout()\n",
    "plt.savefig('air_changes_comparison.png')\n",
    "plt.show()"
   ]
  },
  {
   "cell_type": "markdown",
   "metadata": {},
   "source": [
    "## Analyze Extreme Climate Conditions\n",
    "\n",
    "This section analyzes the ventilation system under extreme climate conditions."
   ]
  },
  {
   "cell_type": "code",
   "execution_count": null,
   "metadata": {},
   "outputs": [],
   "source": [
    "# Define climate conditions\n",
    "climate_conditions = [\n",
    "    {'name': 'Average', 'temp': 25, 'rh': 60},\n",
    "    {'name': 'Hot & Humid', 'temp': 28, 'rh': 93},\n",
    "    {'name': 'Cool & Dry', 'temp': 16, 'rh': 30}\n",
    "]\n",
    "\n",
    "climate_results = []\n",
    "\n",
    "for condition in climate_conditions:\n",
    "    vc.TEMP_AVG = condition['temp']\n",
    "    vc.RH_AVG = condition['rh']\n",
    "    vc.CHANGES_PER_HOUR = 12  # Reset to default\n",
    "    \n",
    "    report = vc.calculate_ventilation_system()\n",
    "    \n",
    "    for system_name, system_data in report['systems'].items():\n",
    "        climate_results.append({\n",
    "            'Climate': condition['name'],\n",
    "            'Temperature (°C)': condition['temp'],\n",
    "            'Relative Humidity (%)': condition['rh'],\n",
    "            'System': system_name,\n",
    "            'Total Flow (CFM)': system_data['airflow']['total_cfm'],\n",
    "            'Total Pressure (inWG)': system_data['pressure_drop']['total_inwg'],\n",
    "            'Air Density (kg/m³)': report['systems'][system_name]['airflow']['density'] if 'density' in report['systems'][system_name]['airflow'] else vc.air_density(vc.ALTITUDE, condition['temp'], condition['rh'])\n",
    "        })\n",
    "\n",
    "# Create DataFrame and display results\n",
    "climate_df = pd.DataFrame(climate_results)\n",
    "climate_df"
   ]
  },
  {
   "cell_type": "code",
   "execution_count": null,
   "metadata": {},
   "outputs": [],
   "source": [
    "# Plot comparison of climate conditions\n",
    "plt.figure(figsize=(12, 6))\n",
    "\n",
    "# Plot air density vs climate\n",
    "plt.subplot(1, 2, 1)\n",
    "for system in climate_df['System'].unique():\n",
    "    system_data = climate_df[climate_df['System'] == system]\n",
    "    plt.bar(system_data['Climate'], system_data['Air Density (kg/m³)'], label=system, alpha=0.7)\n",
    "    \n",
    "plt.xlabel('Climate Condition')\n",
    "plt.ylabel('Air Density (kg/m³)')\n",
    "plt.title('Air Density vs Climate')\n",
    "plt.legend()\n",
    "\n",
    "# Plot pressure vs climate\n",
    "plt.subplot(1, 2, 2)\n",
    "for system in climate_df['System'].unique():\n",
    "    system_data = climate_df[climate_df['System'] == system]\n",
    "    plt.bar(system_data['Climate'], system_data['Total Pressure (inWG)'], label=system, alpha=0.7)\n",
    "    \n",
    "plt.xlabel('Climate Condition')\n",
    "plt.ylabel('Total Pressure (inWG)')\n",
    "plt.title('Pressure vs Climate')\n",
    "plt.legend()\n",
    "\n",
    "plt.tight_layout()\n",
    "plt.savefig('climate_comparison.png')\n",
    "plt.show()"
   ]
  },
  {
   "cell_type": "markdown",
   "metadata": {},
   "source": [
    "## Conclusion\n",
    "\n",
    "This analysis has determined the ventilation requirements for the bathroom facilities across multiple floors. The recommended fans should provide adequate ventilation while ensuring that duct velocities remain within acceptable ranges.\n",
    "\n",
    "### Key Findings:\n",
    "\n",
    "1. System 1 (PB Baño C, PB Baño D, Cafetín Baño C, Cafetín Baño D) requires a centrifugal fan capable of handling the calculated airflow and static pressure.\n",
    "2. System 2 (Piso 1 Baño C, Piso 1 Baño D, Piso 2 Baño C, Piso 2 Baño D) requires a separate centrifugal fan with its own specifications.\n",
    "3. Any velocity issues identified should be addressed by adjusting duct sizes or considering alternative designs.\n",
    "4. The selected fans provide adequate margin for variations in climate conditions and operational requirements."
   ]
  }
 ],
 "metadata": {
  "kernelspec": {
   "display_name": "Python 3",
   "language": "python",
   "name": "python3"
  },
  "language_info": {
   "codemirror_mode": {
    "name": "ipython",
    "version": 3
   },
   "file_extension": ".py",
   "mimetype": "text/x-python",
   "name": "python",
   "nbconvert_exporter": "python",
   "pygments_lexer": "ipython3",
   "version": "3.8.10"
  }
 },
 "nbformat": 4,
 "nbformat_minor": 4
}

