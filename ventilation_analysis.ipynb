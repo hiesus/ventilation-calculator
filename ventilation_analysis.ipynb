{
 "cells": [
  {
   "cell_type": "markdown",
   "metadata": {},
   "source": [
    "# Bathroom Ventilation System Analysis\n",
    "\n",
    "This notebook analyzes the ventilation system for a multi-floor facility's bathrooms. It calculates required airflow rates, duct velocities, and recommends appropriate centrifugal fans."
   ]
  },
  {
   "cell_type": "code",
   "execution_count": null,
   "metadata": {},
   "outputs": [],
   "source": [
    "# Import the ventilation calculator module\n",
    "from ventilation_calculator import *"
   ]
  },
  {
   "cell_type": "markdown",
   "metadata": {},
   "source": [
    "## Analyze the Ventilation System\n",
    "\n",
    "We'll analyze the system under the worst-case climate conditions (hot and humid)."
   ]
  },
  {
   "cell_type": "code",
   "execution_count": null,
   "metadata": {},
   "outputs": [],
   "source": [
    "# Analyze for worst climate case\n",
    "climate_condition = 'extreme_hot_humid'\n",
    "results, fan_requirements = analyze_ventilation_system(climate_condition)"
   ]
  },
  {
   "cell_type": "markdown",
   "metadata": {},
   "source": [
    "## Generate Improvement Suggestions"
   ]
  },
  {
   "cell_type": "code",
   "execution_count": null,
   "metadata": {},
   "outputs": [],
   "source": [
    "# Generate suggestions for improvements\n",
    "suggestions = suggest_improvements(results)\n",
    "\n",
    "# Display suggestions\n",
    "for bathroom_name, bathroom_suggestions in suggestions.items():\n",
    "    if bathroom_suggestions:\n",
    "        print(f\"\\n{bathroom_name}:\")\n",
    "        for suggestion in bathroom_suggestions:\n",
    "            print(f\"  - {suggestion}\")"
   ]
  },
  {
   "cell_type": "markdown",
   "metadata": {},
   "source": [
    "## Recommend Fans"
   ]
  },
  {
   "cell_type": "code",
   "execution_count": null,
   "metadata": {},
   "outputs": [],
   "source": [
    "# Recommend fans\n",
    "fan_recommendations = recommend_fans(fan_requirements)\n",
    "\n",
    "# Display fan recommendations\n",
    "for system, recommendation in fan_recommendations.items():\n",
    "    print(f\"\\n{system.upper()}:\")\n",
    "    if isinstance(recommendation, dict):\n",
    "        print(f\"  Recommended model: {recommendation['model']}\")\n",
    "        print(f\"  Maximum flow: {recommendation['max_flow_cfm']:.1f} CFM\")\n",
    "        print(f\"  Maximum pressure: {recommendation['max_pressure_inwg']:.4f} inWG\")\n",
    "        print(f\"  Power consumption: {recommendation['power_watts']} W\")\n",
    "        print(f\"  Flow margin: {recommendation['flow_margin']:.1f}%\")\n",
    "        print(f\"  Pressure margin: {recommendation['pressure_margin']:.1f}%\")\n",
    "    else:\n",
    "        print(f\"  {recommendation}\")"
   ]
  },
  {
   "cell_type": "markdown",
   "metadata": {},
   "source": [
    "## Generate Full Report"
   ]
  },
  {
   "cell_type": "code",
   "execution_count": null,
   "metadata": {},
   "outputs": [],
   "source": [
    "# Generate report\n",
    "generate_report(results, fan_requirements, suggestions, fan_recommendations, climate_condition)"
   ]
  },
  {
   "cell_type": "markdown",
   "metadata": {},
   "source": [
    "## Visualize the System"
   ]
  },
  {
   "cell_type": "code",
   "execution_count": null,
   "metadata": {},
   "outputs": [],
   "source": [
    "# Plot system diagram\n",
    "plot_system_diagram(results, fan_recommendations)\n",
    "\n",
    "# Display the diagram\n",
    "from IPython.display import Image\n",
    "Image(filename='ventilation_system_diagram.png')"
   ]
  },
  {
   "cell_type": "markdown",
   "metadata": {},
   "source": [
    "## Save Results to CSV"
   ]
  },
  {
   "cell_type": "code",
   "execution_count": null,
   "metadata": {},
   "outputs": [],
   "source": [
    "# Save results to CSV\n",
    "results_df = pd.DataFrame()\n",
    "for bathroom_name, data in results.items():\n",
    "    row = {\n",
    "        'Bathroom': bathroom_name,\n",
    "        'System': data['system']\n",
    "    }\n",
    "    \n",
    "    if bathroom_name != 'Ducto_Principal_Piso2':\n",
    "        row.update({\n",
    "            'Volume (m³)': data['volume_m3'],\n",
    "            'Air Changes per Hour': data['air_changes_per_hour'],\n",
    "            'Grille Velocity (m/s)': data['grille_velocity_m_s']\n",
    "        })\n",
    "    \n",
    "    row.update({\n",
    "        'Flow Rate (m³/h)': data['flow_rate_m3h'],\n",
    "        'Flow Rate (CFM)': data['flow_rate_cfm'],\n",
    "        'Total Pressure Loss (Pa)': data['total_pressure_loss_pa']\n",
    "    })\n",
    "    \n",
    "    results_df = pd.concat([results_df, pd.DataFrame([row])], ignore_index=True)\n",
    "\n",
    "results_df.to_csv('ventilation_results.csv', index=False)\n",
    "results_df"
   ]
  },
  {
   "cell_type": "code",
   "execution_count": null,
   "metadata": {},
   "outputs": [],
   "source": [
    "# Save fan recommendations to CSV\n",
    "fan_df = pd.DataFrame()\n",
    "for system, recommendation in fan_recommendations.items():\n",
    "    if isinstance(recommendation, dict):\n",
    "        row = {\n",
    "            'System': system,\n",
    "            'Model': recommendation['model'],\n",
    "            'Max Flow (CFM)': recommendation['max_flow_cfm'],\n",
    "            'Max Pressure (inWG)': recommendation['max_pressure_inwg'],\n",
    "            'Power (W)': recommendation['power_watts'],\n",
    "            'Flow Margin (%)': recommendation['flow_margin'],\n",
    "            'Pressure Margin (%)': recommendation['pressure_margin']\n",
    "        }\n",
    "    else:\n",
    "        row = {\n",
    "            'System': system,\n",
    "            'Model': 'Not found',\n",
    "            'Max Flow (CFM)': None,\n",
    "            'Max Pressure (inWG)': None,\n",
    "            'Power (W)': None,\n",
    "            'Flow Margin (%)': None,\n",
    "            'Pressure Margin (%)': None\n",
    "        }\n",
    "    \n",
    "    fan_df = pd.concat([fan_df, pd.DataFrame([row])], ignore_index=True)\n",
    "\n",
    "fan_df.to_csv('fan_recommendations.csv', index=False)\n",
    "fan_df"
   ]
  },
  {
   "cell_type": "markdown",
   "metadata": {},
   "source": [
    "## Interactive Adjustments\n",
    "\n",
    "Use this section to interactively adjust parameters and see the impact on the ventilation system."
   ]
  },
  {
   "cell_type": "code",
   "execution_count": null,
   "metadata": {},
   "outputs": [],
   "source": [
    "import ipywidgets as widgets\n",
    "from IPython.display import display, clear_output\n",
    "\n",
    "def update_bathroom(bathroom_name, volume, ach):\n",
    "    # Update the bathroom parameters\n",
    "    if bathroom_name in bathrooms and bathroom_name != 'Ducto_Principal_Piso2':\n",
    "        bathrooms[bathroom_name]['volume_m3'] = volume\n",
    "        \n",
    "        # Recalculate and display results\n",
    "        clear_output(wait=True)\n",
    "        results, fan_requirements = analyze_ventilation_system(climate_condition)\n",
    "        suggestions = suggest_improvements(results)\n",
    "        fan_recommendations = recommend_fans(fan_requirements)\n",
    "        \n",
    "        # Display updated results for this bathroom\n",
    "        print(f\"Updated {bathroom_name}:\")\n",
    "        print(f\"  Volume: {results[bathroom_name]['volume_m3']:.1f} m³\")\n",
    "        print(f\"  Air changes per hour: {results[bathroom_name]['air_changes_per_hour']:.1f}\")\n",
    "        print(f\"  Flow rate: {results[bathroom_name]['flow_rate_m3h']:.1f} m³/h ({results[bathroom_name]['flow_rate_cfm']:.1f} CFM)\")\n",
    "        print(f\"  Grille velocity: {results[bathroom_name]['grille_velocity_m_s']:.2f} m/s\")\n",
    "        \n",
    "        # Display suggestions if any\n",
    "        if bathroom_name in suggestions and suggestions[bathroom_name]:\n",
    "            print(\"\\nSuggestions:\")\n",
    "            for suggestion in suggestions[bathroom_name]:\n",
    "                print(f\"  - {suggestion}\")\n",
    "        else:\n",
    "            print(\"\\nNo suggestions - parameters are within recommended ranges.\")\n",
    "\n",
    "# Create dropdown for bathroom selection\n",
    "bathroom_dropdown = widgets.Dropdown(\n",
    "    options=[name for name in bathrooms if name != 'Ducto_Principal_Piso2'],\n",
    "    description='Bathroom:',\n",
    "    disabled=False,\n",
    ")\n",
    "\n",
    "# Create sliders for volume and ACH\n",
    "volume_slider = widgets.FloatSlider(\n",
    "    value=10.0,\n",
    "    min=5.0,\n",
    "    max=30.0,\n",
    "    step=0.5,\n",
    "    description='Volume (m³):',\n",
    "    disabled=False,\n",
    "    continuous_update=False,\n",
    "    orientation='horizontal',\n",
    "    readout=True,\n",
    "    readout_format='.1f',\n",
    ")\n",
    "\n",
    "ach_slider = widgets.FloatSlider(\n",
    "    value=10.0,\n",
    "    min=6.0,\n",
    "    max=20.0,\n",
    "    step=0.5,\n",
    "    description='ACH:',\n",
    "    disabled=False,\n",
    "    continuous_update=False,\n",
    "    orientation='horizontal',\n",
    "    readout=True,\n",
    "    readout_format='.1f',\n",
    ")\n",
    "\n",
    "# Update function for when bathroom is selected\n",
    "def on_bathroom_change(change):\n",
    "    if change['type'] == 'change' and change['name'] == 'value':\n",
    "        bathroom_name = change['new']\n",
    "        if bathroom_name in bathrooms:\n",
    "            # Update sliders to current values\n",
    "            volume_slider.value = bathrooms[bathroom_name]['volume_m3']\n",
    "\n",
    "bathroom_dropdown.observe(on_bathroom_change)\n",
    "\n",
    "# Create update button\n",
    "update_button = widgets.Button(\n",
    "    description='Update Parameters',\n",
    "    disabled=False,\n",
    "    button_style='', \n",
    "    tooltip='Click to update parameters',\n",
    "    icon='check'\n",
    ")\n",
    "\n",
    "# Button click handler\n",
    "def on_button_clicked(b):\n",
    "    update_bathroom(bathroom_dropdown.value, volume_slider.value, ach_slider.value)\n",
    "\n",
    "update_button.on_click(on_button_clicked)\n",
    "\n",
    "# Display widgets\n",
    "display(bathroom_dropdown, volume_slider, ach_slider, update_button)"
   ]
  }
 ],
 "metadata": {
  "kernelspec": {
   "display_name": "Python 3",
   "language": "python",
   "name": "python3"
  },
  "language_info": {
   "codemirror_mode": {
    "name": "ipython",
    "version": 3
   },
   "file_extension": ".py",
   "mimetype": "text/x-python",
   "name": "python",
   "nbconvert_exporter": "python",
   "pygments_lexer": "ipython3",
   "version": "3.8.10"
  }
 },
 "nbformat": 4,
 "nbformat_minor": 4
}
